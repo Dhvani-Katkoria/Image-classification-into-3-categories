{
 "cells": [
  {
   "cell_type": "code",
   "execution_count": 15,
   "metadata": {},
   "outputs": [],
   "source": [
    "import cv2\n",
    "import numpy as np\n",
    "import matplotlib.pyplot as plt\n",
    "%matplotlib inline\n",
    "from sklearn.cluster import KMeans\n",
    "from sklearn.neighbors import NearestNeighbors\n",
    "from sklearn.metrics import accuracy_score\n",
    "import os"
   ]
  },
  {
   "cell_type": "code",
   "execution_count": 2,
   "metadata": {},
   "outputs": [],
   "source": [
    "# defining feature extractor that we want to use\n",
    "extractor = cv2.xfeatures2d.SIFT_create()\n",
    "\n",
    "def features(image, extractor):\n",
    "    keypoints, descriptors = extractor.detectAndCompute(image, None)\n",
    "    return keypoints, descriptors"
   ]
  },
  {
   "cell_type": "code",
   "execution_count": 3,
   "metadata": {},
   "outputs": [],
   "source": [
    "# generate histogram for each cluster of feature descriptor\n",
    "def build_histogram(descriptor_list, cluster_alg):\n",
    "    histogram = np.zeros(len(cluster_alg.cluster_centers_))\n",
    "    cluster_result =  cluster_alg.predict(descriptor_list)\n",
    "    for i in cluster_result:\n",
    "        histogram[i] += 1.0\n",
    "    return histogram"
   ]
  },
  {
   "cell_type": "code",
   "execution_count": 12,
   "metadata": {},
   "outputs": [],
   "source": [
    "# get image files from directory\n",
    "def getImageFiles(path):\n",
    "    imagePaths = []\n",
    "    for file in os.listdir(path):\n",
    "        imagePaths.append(os.path.join(path,file))\n",
    "    return imagePaths"
   ]
  },
  {
   "cell_type": "code",
   "execution_count": 5,
   "metadata": {},
   "outputs": [],
   "source": [
    "\n",
    "featureHistogram = []\n",
    "labels = [] # ground truth values\n",
    "imagePaths = []\n",
    "\n",
    "\n",
    "trainDirPaths = \"/home/vidhikatkoria/VR/TRAIN\"\n",
    "\n",
    "imagePaths = getImageFiles(trainDirPaths)\n",
    "\n",
    "for (i, imagePath) in enumerate(imagePaths):\n",
    "    # load the image and extract the class label \n",
    "    # (assuming path as the format: /path/to/dataset/{category}.{image_num}.jpg\n",
    "    image = cv2.imread(imagePath)\n",
    "    label = imagePath.split(os.path.sep)[-1].split(\".\")[0]\n",
    "    labels.append(label)\n",
    "    # shift descriptor for keypoints in image\n",
    "    keypoint, descriptor = features(image, extractor)\n",
    "    # k-cluster of keypoints\n",
    "    kmeans = KMeans(n_clusters = 10)\n",
    "    kmeans.fit(descriptor)\n",
    "    # histogram of clusters for training images\n",
    "    histogram = build_histogram(descriptor, kmeans)\n",
    "    featureHistogram.append(histogram)"
   ]
  },
  {
   "cell_type": "code",
   "execution_count": 44,
   "metadata": {},
   "outputs": [],
   "source": [
    "data = cv2.imread(\"/home/vidhikatkoria/VR/test/Landscape.50.jpg\")\n",
    "# data = gray(data)\n",
    "keypoint, descriptor = features(data, extractor)\n",
    "histogramt = build_histogram(descriptor, kmeans)\n",
    "neighbor = NearestNeighbors(n_neighbors = 1)\n",
    "neighbor.fit(featureHistogram)\n",
    "dist, result = neighbor.kneighbors([histogramt])"
   ]
  },
  {
   "cell_type": "code",
   "execution_count": 45,
   "metadata": {},
   "outputs": [
    {
     "name": "stdout",
     "output_type": "stream",
     "text": [
      "[[1300.26535753]] [[117]]\n"
     ]
    }
   ],
   "source": [
    "print(dist,result)"
   ]
  },
  {
   "cell_type": "code",
   "execution_count": 46,
   "metadata": {},
   "outputs": [
    {
     "data": {
      "text/plain": [
       "'Landscape'"
      ]
     },
     "execution_count": 46,
     "metadata": {},
     "output_type": "execute_result"
    }
   ],
   "source": [
    "labels[result[0][0]]"
   ]
  },
  {
   "cell_type": "code",
   "execution_count": 13,
   "metadata": {},
   "outputs": [],
   "source": [
    "# test using k nearest neighbour\n",
    "testLabel = []\n",
    "predictedLabel = []\n",
    "testDirPaths = \"/home/vidhikatkoria/VR/test\"\n",
    "\n",
    "testImagePaths = getImageFiles(testDirPaths)\n",
    "\n",
    "for (i, imagePath) in enumerate(testImagePaths):\n",
    "    # load the image and extract the class label \n",
    "    testImage = cv2.imread(imagePath)\n",
    "    label = imagePath.split(os.path.sep)[-1].split(\".\")[0]\n",
    "    testLabel.append(label)\n",
    "     # shift descriptor for keypoints in image\n",
    "    keypoint, descriptor = features(testImage, extractor)\n",
    "    # histogram of clusters for test image\n",
    "    histogram = build_histogram(descriptor, kmeans)\n",
    "    # find nearest matched neighbour from histograms of trained images\n",
    "    neighbor = NearestNeighbors(n_neighbors = 1)\n",
    "    neighbor.fit(featureHistogram)\n",
    "    dist, result = neighbor.kneighbors([histogram])\n",
    "    # get the predicted label of nearest match\n",
    "    predictedLabel.append(labels[result[0][0]])"
   ]
  },
  {
   "cell_type": "code",
   "execution_count": 19,
   "metadata": {},
   "outputs": [
    {
     "data": {
      "text/plain": [
       "0.7333333333333333"
      ]
     },
     "execution_count": 19,
     "metadata": {},
     "output_type": "execute_result"
    }
   ],
   "source": [
    "# accuracy of test image classification\n",
    "accuracy_score(testLabel, predictedLabel)"
   ]
  },
  {
   "cell_type": "code",
   "execution_count": null,
   "metadata": {},
   "outputs": [],
   "source": []
  }
 ],
 "metadata": {
  "kernelspec": {
   "display_name": "Python 3",
   "language": "python",
   "name": "python3"
  },
  "language_info": {
   "codemirror_mode": {
    "name": "ipython",
    "version": 3
   },
   "file_extension": ".py",
   "mimetype": "text/x-python",
   "name": "python",
   "nbconvert_exporter": "python",
   "pygments_lexer": "ipython3",
   "version": "3.7.4"
  }
 },
 "nbformat": 4,
 "nbformat_minor": 2
}
